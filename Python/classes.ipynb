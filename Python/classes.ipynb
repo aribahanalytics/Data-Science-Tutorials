{
 "cells": [
  {
   "cell_type": "markdown",
   "metadata": {},
   "source": [
    "# Classes"
   ]
  },
  {
   "cell_type": "markdown",
   "metadata": {},
   "source": [
    "## Oops(object orient programming)"
   ]
  },
  {
   "cell_type": "markdown",
   "metadata": {
    "collapsed": true
   },
   "source": [
    "* Object-oriented programming (OOP) is a programming language model organized around objects rather than \"actions\" and data rather than logic.  \n",
    "\n",
    "* Historically, a program has been viewed as a logical procedure that takes input data, processes it, and produces output data.The programming challenge was seen as how to write the logic, not how to define the data.  \n",
    "\n",
    "* Object-oriented programming takes the view that what we really care about are the objects we want to manipulate rather than the logic required to manipulate them.   \n",
    "\n",
    "* Examples of objects range from human beings (described by name, address, and so forth) to buildings and floors (whose properties can be described and managed) down to the little"
   ]
  },
  {
   "cell_type": "markdown",
   "metadata": {},
   "source": [
    "* The first step in OOP is to identify all the objects the programmer wants to manipulate and how they relate to each other, an exercise often known as data modeling."
   ]
  },
  {
   "cell_type": "markdown",
   "metadata": {},
   "source": [
    "## Python oops concepts"
   ]
  },
  {
   "cell_type": "markdown",
   "metadata": {},
   "source": [
    "Python is an object-oriented programming language. Everything is an object in Python. You can easily create and use classes and objects in Python. Major principles of object-oriented programming system are given below:\n"
   ]
  },
  {
   "cell_type": "markdown",
   "metadata": {},
   "source": [
    "* Object\n",
    "* Class\n",
    "* Method \n",
    "* Inheritance\n",
    "* Polymorphism\n",
    "* Data Abstraction\n",
    "* Encapsulation"
   ]
  },
  {
   "cell_type": "markdown",
   "metadata": {},
   "source": [
    "** Object **\n",
    "\n",
    " Object is an entity that has state and behavior. It may be anything. It may be physical and logical.  \n",
    " For example: mouse,    keyboard, chair, table, pen etc.\n",
    "\n",
    " Everything in Python is an object, and almost everything has attributes and methods. All functions have a built-in attribute __doc__, which returns the doc string defined in the function source code."
   ]
  },
  {
   "cell_type": "markdown",
   "metadata": {},
   "source": [
    "** Class **\n",
    "\n",
    "Class can be defined as a collection of objects. It is a logical entity that has some specific attributes and methods.This means there is a construct in Python called a class that lets you structure your software in a particular way. Using classes, you can add consistency to your programs so that they can be used in a cleaner way.\n",
    "\n",
    "** Attribute**\n",
    "\n",
    "Attribute reference is a method. A method is a function that belongs to an object. (In Python, the term method is not unique to class instances: other object types can have methods as well\n",
    "\n",
    "**Method**\n",
    "\n",
    "Method is a function that is associated with an object. In Python, method is not unique to class instances. Any object type can have methods.\n"
   ]
  },
  {
   "cell_type": "markdown",
   "metadata": {},
   "source": [
    "** Syntax ** :\n",
    "* class Classname:\n",
    "  <statement-1>\n",
    "  .\n",
    "  .\n",
    "  <statement-N>\n",
    "  \n",
    "  In this example shown above first we have to start by name class then classname and the classname should start from capital    letter and then set of statements and function\n",
    "  "
   ]
  },
  {
   "cell_type": "markdown",
   "metadata": {},
   "source": [
    "## Python constructors"
   ]
  },
  {
   "cell_type": "markdown",
   "metadata": {},
   "source": [
    "* A constructor is a special type of method (function) that is called when it instantiates an object using the definition found in your class. The constructors are normally used to initialize (assign values) to the instance variables. Constructors also verify that there are enough resources for the object to perform any start-up task."
   ]
  },
  {
   "cell_type": "markdown",
   "metadata": {},
   "source": [
    "### **creating the constructor**"
   ]
  },
  {
   "cell_type": "markdown",
   "metadata": {},
   "source": [
    "* A constructor is a class function that begins with double underscore (_). The name of the constructor is always the same __init__().\n",
    "\n",
    "* While creating an object, a constructor can accept arguments if necessary. When you create a class without a constructor, Python automatically creates a default constructor that doesn't do anything.\n",
    "\n",
    " * Every class must have a constructor, even if it simply relies on the default constructor."
   ]
  },
  {
   "cell_type": "markdown",
   "metadata": {},
   "source": [
    "* let us take an example on class"
   ]
  },
  {
   "cell_type": "code",
   "execution_count": 20,
   "metadata": {},
   "outputs": [
    {
     "name": "stdout",
     "output_type": "stream",
     "text": [
      "12\n",
      "10\n"
     ]
    }
   ],
   "source": [
    "class Myclass:\n",
    "    \n",
    "    def __init__(self,l,b):\n",
    "        self.length = l\n",
    "        self.breadth = b\n",
    "        \n",
    "    def computearea(self):\n",
    "        print (self.length*self.breadth)\n",
    "        \n",
    "    def computediag(self):\n",
    "        print (self.length + self.breadth)\n",
    "        \n",
    "        \n",
    "obj1 = Myclass(3,4)\n",
    "obj1.computearea()\n",
    "\n",
    "obj2 = Myclass(6,4)\n",
    "obj2.computediag()\n",
    "\n",
    "        \n",
    "        "
   ]
  },
  {
   "cell_type": "markdown",
   "metadata": {},
   "source": [
    "* In above example showing how to make a class it contains number of functions \n",
    "\n",
    "* __init__ :function creates attributes on the object and sets them to the values we have passed in as parameters. We use the same names for the attributes and the parameters. When a class defines an __init__() method, class instantiation automatically invokes __init__() for the newly-created class instance\n",
    "\n",
    "* self : self  is the instance object automatically passed to the class instance's method when called, to identify the instance that called it.  self  is used to access other attributes or methods of the object from inside the method. ( methods are basically just functions that belong to a class\n",
    "\n",
    "* computearea, computediag : the function calulating the breadth\n",
    "\n",
    "* obj1,obj2 : calling class and giving the input of length and breadth\n",
    "\n",
    "* we can delete and object by command del"
   ]
  },
  {
   "cell_type": "markdown",
   "metadata": {},
   "source": [
    "## Inheritance"
   ]
  },
  {
   "cell_type": "markdown",
   "metadata": {},
   "source": [
    "* Inheritance is used to specify that one class will get most or all of its features from its parent class. It is a feature of Object Oriented Programming. It is a very powerful feature which facilitates users to create a new class with a few or more modification to an existing class. The new class is called child class or derived class and the main class from which it inherits the properties is called base class or parent class.The child class or derived class inherits the features from the parent class, adding new features to it. It facilitates re-usability of code."
   ]
  },
  {
   "cell_type": "markdown",
   "metadata": {},
   "source": [
    "* Let's see a simple python inheritance example where we are using two classes: Animal and Dog. Animal is the parent or base class and Dog is the child class."
   ]
  },
  {
   "cell_type": "markdown",
   "metadata": {},
   "source": [
    "* Here, we are defining eat() method in Animal class and bark() method in Dog class. In this example, we are creating instance of Dog class and calling eat() and bark() methods by the instance of child class only. Since, parent properties and behaviors are inherited to child object automatically, we can call parent and child class methods by the child instance only."
   ]
  },
  {
   "cell_type": "code",
   "execution_count": 11,
   "metadata": {},
   "outputs": [
    {
     "name": "stdout",
     "output_type": "stream",
     "text": [
      "Eating...\n",
      "Barking...\n"
     ]
    }
   ],
   "source": [
    "class Animal:\n",
    "    def eat(self):\n",
    "        print ('Eating...')\n",
    "        \n",
    "class Dog(Animal):\n",
    "    def bark(self):\n",
    "        print ('Barking...')\n",
    "        \n",
    "        \n",
    "d = Dog()\n",
    "d.eat()\n",
    "d.bark()\n"
   ]
  },
  {
   "cell_type": "markdown",
   "metadata": {},
   "source": [
    "* In above example two function are there Animal and  Dog . The Dog will inherits all the functions from the Animal class that is the concept of inheritance"
   ]
  },
  {
   "cell_type": "markdown",
   "metadata": {},
   "source": [
    "## Polymorphism"
   ]
  },
  {
   "cell_type": "markdown",
   "metadata": {},
   "source": [
    "* Polymorphism is made by two words \"poly\" and \"morphs\". Poly means many and Morphs means form, shape. It defines that one task can be performed in different ways. For example: You have a class animal and all animals talk. But they talk differently. Here, the \"talk\" behavior is polymorphic in the sense and totally depends on the animal. So, the abstract \"animal\" concept does not actually \"talk\", but specific animals (like dogs and cats) have a concrete implementation of the action \"talk\"."
   ]
  },
  {
   "cell_type": "markdown",
   "metadata": {},
   "source": [
    "* Let us take an example of polymorphism taking example as dogs and cats"
   ]
  },
  {
   "cell_type": "code",
   "execution_count": 15,
   "metadata": {},
   "outputs": [
    {
     "name": "stdout",
     "output_type": "stream",
     "text": [
      "muao\n",
      "Woof woof\n"
     ]
    }
   ],
   "source": [
    "class Cat(object):\n",
    "    def sound(self):\n",
    "        print (\"muao\")\n",
    "        \n",
    "class Dog(object):\n",
    "    def sound(self):\n",
    "        print (\"Woof woof\")\n",
    "        \n",
    "        \n",
    "def makeSound(animalType):\n",
    "    animalType.sound()\n",
    "    \n",
    "    \n",
    "CatObj = Cat()\n",
    "DogObj = Dog()\n",
    "\n",
    "makeSound(CatObj)\n",
    "makeSound(DogObj)\n",
    "\n",
    "        "
   ]
  },
  {
   "cell_type": "markdown",
   "metadata": {},
   "source": [
    "* In above example cat and Dog are animals only but they sounds different.so we have written a function make sound.\n"
   ]
  },
  {
   "cell_type": "markdown",
   "metadata": {},
   "source": [
    "## Encapsulation"
   ]
  },
  {
   "cell_type": "markdown",
   "metadata": {},
   "source": [
    "* Encapsulation is also the feature of object-oriented programming. It is used to restrict access to methods and variables. In encapsulation, code and data are wrapped together within a single unit from being modified by accident."
   ]
  },
  {
   "cell_type": "markdown",
   "metadata": {},
   "source": [
    "* let us create an example of car which has two methods drive() and update software()\n",
    "\n",
    "\n"
   ]
  },
  {
   "cell_type": "code",
   "execution_count": 17,
   "metadata": {},
   "outputs": [
    {
     "name": "stdout",
     "output_type": "stream",
     "text": [
      "updating sofware\n",
      "driving\n"
     ]
    }
   ],
   "source": [
    "class Car:\n",
    "    \n",
    "    def __init__(self):\n",
    "        self.__updatesoftware()\n",
    "        \n",
    "    def drive(self):\n",
    "        print ('driving')\n",
    "        \n",
    "    def __updatesoftware(self):\n",
    "        print ('updating sofware')\n",
    "        \n",
    "redcar = Car()\n",
    "redcar.drive()"
   ]
  },
  {
   "cell_type": "markdown",
   "metadata": {},
   "source": [
    "* In the above example Encapsulation prevents from accessing accidentally, but not intentionally."
   ]
  },
  {
   "cell_type": "markdown",
   "metadata": {},
   "source": [
    "## Data Abstraction"
   ]
  },
  {
   "cell_type": "markdown",
   "metadata": {},
   "source": [
    "* Data abstraction and encapsulation both are often used as synonyms. Both are nearly synonym because data abstraction is achieved through encapsulation. Abstraction is used to hide internal details and show only functionalities. Abstracting something means to give names to things, so that the name captures the core of what a function or a whole program does."
   ]
  },
  {
   "cell_type": "code",
   "execution_count": null,
   "metadata": {
    "collapsed": true
   },
   "outputs": [],
   "source": []
  }
 ],
 "metadata": {
  "kernelspec": {
   "display_name": "Python 3",
   "language": "python",
   "name": "python3"
  },
  "language_info": {
   "codemirror_mode": {
    "name": "ipython",
    "version": 3
   },
   "file_extension": ".py",
   "mimetype": "text/x-python",
   "name": "python",
   "nbconvert_exporter": "python",
   "pygments_lexer": "ipython3",
   "version": "3.5.2"
  }
 },
 "nbformat": 4,
 "nbformat_minor": 2
}
