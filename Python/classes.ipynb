{
 "cells": [
  {
   "cell_type": "markdown",
   "metadata": {},
   "source": [
    "# Classes"
   ]
  },
  {
   "cell_type": "markdown",
   "metadata": {},
   "source": [
    "## Oops(object orient programming)"
   ]
  },
  {
   "cell_type": "markdown",
   "metadata": {
    "collapsed": true
   },
   "source": [
    "* Object-oriented programming (OOP) is a programming language model organized around objects rather than \"actions\" and data rather than logic. Historically, a program has been viewed as a logical procedure that takes input data, processes it, and produces output data.The programming challenge was seen as how to write the logic, not how to define the data. Object-oriented programming takes the view that what we really care about are the objects we want to manipulate rather than the logic required to manipulate them. Examples of objects range from human beings (described by name, address, and so forth) to buildings and floors (whose properties can be described and managed) down to the little"
   ]
  },
  {
   "cell_type": "markdown",
   "metadata": {},
   "source": [
    "* The first step in OOP is to identify all the objects the programmer wants to manipulate and how they relate to each other, an exercise often known as data modeling. Once an object has been identified. All classes are derived from object(new-style classes)"
   ]
  },
  {
   "cell_type": "code",
   "execution_count": 1,
   "metadata": {
    "collapsed": true
   },
   "outputs": [],
   "source": [
    "class Dog(object):\n",
    "    pass"
   ]
  },
  {
   "cell_type": "code",
   "execution_count": null,
   "metadata": {
    "collapsed": true
   },
   "outputs": [],
   "source": [
    "Python objects hava data and functions attributes(methods)"
   ]
  },
  {
   "cell_type": "code",
   "execution_count": 3,
   "metadata": {
    "collapsed": true
   },
   "outputs": [],
   "source": [
    "class Dog(object):\n",
    "    def bark(self):\n",
    "        print (\"Wuff!\")\n",
    "        \n",
    "snowy = Dog()\n",
    "snowy.bark() #first argument (self) is bound  to the Dog instance\n",
    "snowy.a = 1 # added attribute a to snowy"
   ]
  },
  {
   "cell_type": "markdown",
   "metadata": {
    "collapsed": true
   },
   "source": [
    "As shown in the above example we make a class with classname dog and its object.in that class written function bark with self.after completing class we will make a object snowy of dog\n",
    "then bark function is called "
   ]
  },
  {
   "cell_type": "markdown",
   "metadata": {},
   "source": [
    "## Python oops concepts"
   ]
  },
  {
   "cell_type": "markdown",
   "metadata": {},
   "source": [
    "* Python is an object-oriented programming language. You can easily create and use classes and objects in Python.\n",
    "* Major principles of object-oriented programming system are given below:\n"
   ]
  },
  {
   "cell_type": "markdown",
   "metadata": {},
   "source": [
    "* Object\n",
    "* Class\n",
    "* Method \n",
    "* Inheritance\n",
    "* Polymorphism\n",
    "* Data Abstraction\n",
    "* Encapsulation"
   ]
  },
  {
   "cell_type": "markdown",
   "metadata": {},
   "source": [
    "** Object **\n",
    "\n",
    " Object is an entity that has state and behavior. It may be anything. It may be physical and logical. For example: mouse,    keyboard, chair, table, pen etc.\n",
    "\n",
    " Everything in Python is an object, and almost everything has attributes and methods. All functions have a built-in attribute __doc__, which returns the doc string defined in the function source code."
   ]
  },
  {
   "cell_type": "markdown",
   "metadata": {},
   "source": [
    "** Class **\n",
    "\n",
    "Class can be defined as a collection of objects. It is a logical entity that has some specific attributes and methods.This means there is a construct in Python called a class that lets you structure your software in a particular way. Using classes, you can add consistency to your programs so that they can be used in a cleaner way.\n",
    "\n",
    "** Attribute**\n",
    "\n",
    "Attribute reference is a method. A method is a function that belongs to an object. (In Python, the term method is not unique to class instances: other object types can have methods as well\n",
    "\n",
    "**Method**\n",
    "\n",
    "Method is a function that is associated with an object. In Python, method is not unique to class instances. Any object type can have methods.\n"
   ]
  },
  {
   "cell_type": "markdown",
   "metadata": {},
   "source": [
    "** Syntax ** :\n",
    "* class Classname:\n",
    "  <statement-1>\n",
    "  .\n",
    "  .\n",
    "  <statement-N>\n",
    "  \n",
    "  In this example shown above first we have to start by name class then classname and the classname should start from capital    letter and then set of statements and function\n",
    "  "
   ]
  },
  {
   "cell_type": "markdown",
   "metadata": {},
   "source": [
    "## Python constructors"
   ]
  },
  {
   "cell_type": "markdown",
   "metadata": {},
   "source": [
    "* A constructor is a special type of method (function) that is called when it instantiates an object using the definition found in your class. The constructors are normally used to initialize (assign values) to the instance variables. Constructors also verify that there are enough resources for the object to perform any start-up task."
   ]
  },
  {
   "cell_type": "markdown",
   "metadata": {},
   "source": [
    "### **creating the constructor**"
   ]
  },
  {
   "cell_type": "markdown",
   "metadata": {},
   "source": [
    "* A constructor is a class function that begins with double underscore (_). The name of the constructor is always the same __init__().\n",
    "\n",
    "* While creating an object, a constructor can accept arguments if necessary. When you create a class without a constructor, Python automatically creates a default constructor that doesn't do anything.\n",
    "\n",
    " * Every class must have a constructor, even if it simply relies on the default constructor."
   ]
  },
  {
   "cell_type": "markdown",
   "metadata": {},
   "source": [
    "* let us take an example of class person\n"
   ]
  },
  {
   "cell_type": "code",
   "execution_count": null,
   "metadata": {
    "collapsed": true
   },
   "outputs": [],
   "source": [
    "class Person:\n",
    "   \n",
    "    # constructor\n",
    "    def __init__(self,age,name):\n",
    "        self.age = age\n",
    "        self.name = name\n",
    "        \n",
    "    def findage(self):\n",
    "        return self.age\n",
    "\n",
    "a = Person(22,\"Kampret\")\n",
    "\n",
    "#show age and name\n",
    "print a.name \n",
    "print a.findage()\n",
    "\n",
    "#show memory location\n",
    "print a"
   ]
  },
  {
   "cell_type": "markdown",
   "metadata": {},
   "source": [
    "In above example we have written a class with classname person.we are finding  the age of the person and name. __init__ is a constructor which contains self,name,age.Primalry we want tofind the age of the person then written a function find age after that we call a class and making object a then print name and age of the person  "
   ]
  },
  {
   "cell_type": "markdown",
   "metadata": {},
   "source": [
    "* In above example showing how to make a class it contains number of functions \n",
    "\n",
    "* __init__ :function creates attributes on the object and sets them to the values we have passed in as parameters. We use the same names for the attributes and the parameters. When a class defines an __init__() method, class instantiation automatically invokes __init__() for the newly-created class instance\n",
    "\n",
    "* self : self  is the instance object automatically passed to the class instance's method when called, to identify the instance that called it.  self  is used to access other attributes or methods of the object from inside the method. ( methods are basically just functions that belong to a class\n",
    "\n",
    "* computearea, computediag : the function calulating the breadth\n",
    "\n",
    "* obj1,obj2 : calling class and giving the input of length and breadth\n",
    "\n",
    "* we can delete and object by command del"
   ]
  },
  {
   "cell_type": "markdown",
   "metadata": {},
   "source": [
    "## Inheritance"
   ]
  },
  {
   "cell_type": "markdown",
   "metadata": {},
   "source": [
    "* Inheritance is used to specify that one class will get most or all of its features from its parent class. It is a feature of Object Oriented Programming. It is a very powerful feature which facilitates users to create a new class with a few or more modification to an existing class. The new class is called child class or derived class and the main class from which it inherits the properties is called base class or parent class.The child class or derived class inherits the features from the parent class, adding new features to it. It facilitates re-usability of code."
   ]
  },
  {
   "cell_type": "markdown",
   "metadata": {},
   "source": [
    "* Let's see a simple python inheritance example where we are using two classes: Animal and Dog. Animal is the parent or base class and Dog is the child class."
   ]
  },
  {
   "cell_type": "markdown",
   "metadata": {},
   "source": [
    "* Here, we are defining eat() method in Animal class and bark() method in Dog class. In this example, we are creating instance of Dog class and calling eat() and bark() methods by the instance of child class only. Since, parent properties and behaviors are inherited to child object automatically, we can call parent and child class methods by the child instance only."
   ]
  },
  {
   "cell_type": "code",
   "execution_count": 11,
   "metadata": {},
   "outputs": [
    {
     "name": "stdout",
     "output_type": "stream",
     "text": [
      "Eating...\n",
      "Barking...\n"
     ]
    }
   ],
   "source": [
    "class Animal:\n",
    "    def eat(self):\n",
    "        print ('Eating...')\n",
    "        \n",
    "class Dog(Animal):\n",
    "    def bark(self):\n",
    "        print ('Barking...')\n",
    "        \n",
    "        \n",
    "d = Dog()\n",
    "d.eat()\n",
    "d.bark()\n"
   ]
  },
  {
   "cell_type": "markdown",
   "metadata": {},
   "source": [
    "* In above example two function are there Animal and  Dog . The Dog will inherits all the functions from the Animal class that is the concept of inheritance"
   ]
  },
  {
   "cell_type": "markdown",
   "metadata": {},
   "source": [
    "let us see the concept of inheritance"
   ]
  },
  {
   "cell_type": "code",
   "execution_count": null,
   "metadata": {
    "collapsed": true
   },
   "outputs": [],
   "source": [
    "class DerivedClass(BaseClass):\n",
    "    body_of_derived_class"
   ]
  },
  {
   "cell_type": "markdown",
   "metadata": {},
   "source": [
    "In above example the derived class is the child class in that the object is baseclass it is parent class the derived class will take all the functionalities if base class menas it in herits form base class"
   ]
  },
  {
   "cell_type": "markdown",
   "metadata": {},
   "source": [
    "let us see simple example of inheritance:\n",
    "    "
   ]
  },
  {
   "cell_type": "code",
   "execution_count": null,
   "metadata": {
    "collapsed": true
   },
   "outputs": [],
   "source": [
    "class Person:\n",
    "    def __init__(self, name, surname, number):\n",
    "        self.name = name\n",
    "        self.surname = surname\n",
    "        self.number = number\n",
    "\n",
    "\n",
    "class Student(Person):\n",
    "    UNDERGRADUATE, POSTGRADUATE = range(2)\n",
    "\n",
    "    def __init__(self, student_type, *args, **kwargs):\n",
    "        self.student_type = student_type\n",
    "        self.classes = []\n",
    "        super(Student, self).__init__(*args, **kwargs)\n",
    "\n",
    "    def enrol(self, course):\n",
    "        self.classes.append(course)\n",
    "\n",
    "\n",
    "class StaffMember(Person):\n",
    "    PERMANENT, TEMPORARY = range(2)\n",
    "\n",
    "    def __init__(self, employment_type, *args, **kwargs):\n",
    "        self.employment_type = employment_type\n",
    "        super(StaffMember, self).__init__(*args, **kwargs)\n",
    "\n",
    "\n",
    "class Lecturer(StaffMember):\n",
    "    def __init__(self, *args, **kwargs):\n",
    "        self.courses_taught = []\n",
    "        super(Lecturer, self).__init__(*args, **kwargs)\n",
    "\n",
    "    def assign_teaching(self, course):\n",
    "        self.courses_taught.append(course)\n",
    "\n",
    "\n",
    "jane = Student(Student.POSTGRADUATE, \"Jane\", \"Smith\", \"SMTJNX045\")\n",
    "jane.enrol(a_postgrad_course)\n",
    "\n",
    "bob = Lecturer(StaffMember.PERMANENT, \"Bob\", \"Jones\", \"123456789\")\n",
    "bob.assign_teaching(an_undergrad_course)"
   ]
  },
  {
   "cell_type": "markdown",
   "metadata": {},
   "source": [
    "* Our base class is Person, which represents any person associated with a university. We create a subclass to represent students and one to represent staff members, and then a subclass of StaffMember for people who teach courses (as opposed to staff members who have administrative positions.)"
   ]
  },
  {
   "cell_type": "markdown",
   "metadata": {},
   "source": [
    "* We represent both student numbers and staff numbers by a single attribute, number, which we define in the base class, because it makes sense for us to treat them as a unified form of identification for any person. We use different attributes for the kind of student (undergraduate or postgraduate) that someone is and whether a staff member is a permanent or a temporary employee, because these are different sets of options."
   ]
  },
  {
   "cell_type": "markdown",
   "metadata": {},
   "source": [
    "* We have also added a method to Student for enrolling a student in a course, and a method to Lecturer for assigning a course to be taught by a lecturer."
   ]
  },
  {
   "cell_type": "markdown",
   "metadata": {},
   "source": [
    "* The __init__ method of the base class initialises all the instance variables that are common to all subclasses. In each subclass we override the __init__ method so that we can use it to initialise that class’s attributes "
   ]
  },
  {
   "cell_type": "markdown",
   "metadata": {},
   "source": [
    "## Polymorphism"
   ]
  },
  {
   "cell_type": "markdown",
   "metadata": {},
   "source": [
    "* Polymorphism is made by two words \"poly\" and \"morphs\". Poly means many and Morphs means form, shape. It defines that one task can be performed in different ways. For example: You have a class animal and all animals talk. But they talk differently. Here, the \"talk\" behavior is polymorphic in the sense and totally depends on the animal. So, the abstract \"animal\" concept does not actually \"talk\", but specific animals (like dogs and cats) have a concrete implementation of the action \"talk\"."
   ]
  },
  {
   "cell_type": "markdown",
   "metadata": {},
   "source": [
    "* Let us take an example of polymorphism taking example as dogs and cats"
   ]
  },
  {
   "cell_type": "code",
   "execution_count": 15,
   "metadata": {},
   "outputs": [
    {
     "name": "stdout",
     "output_type": "stream",
     "text": [
      "muao\n",
      "Woof woof\n"
     ]
    }
   ],
   "source": [
    "class Cat(object):\n",
    "    def sound(self):\n",
    "        print (\"muao\")\n",
    "        \n",
    "class Dog(object):\n",
    "    def sound(self):\n",
    "        print (\"Woof woof\")\n",
    "        \n",
    "        \n",
    "def makeSound(animalType):\n",
    "    animalType.sound()\n",
    "    \n",
    "    \n",
    "CatObj = Cat()\n",
    "DogObj = Dog()\n",
    "\n",
    "makeSound(CatObj)\n",
    "makeSound(DogObj)\n",
    "\n",
    "        "
   ]
  },
  {
   "cell_type": "markdown",
   "metadata": {},
   "source": [
    "* In above example cat and Dog are animals only but they sounds different.so we have written a function make sound.\n"
   ]
  },
  {
   "cell_type": "markdown",
   "metadata": {},
   "source": [
    "## Encapsulation"
   ]
  },
  {
   "cell_type": "markdown",
   "metadata": {},
   "source": [
    "* Encapsulation is also the feature of object-oriented programming. It is used to restrict access to methods and variables. In encapsulation, code and data are wrapped together within a single unit from being modified by accident."
   ]
  },
  {
   "cell_type": "markdown",
   "metadata": {},
   "source": [
    "* let us create an example of car which has two methods drive() and update software()\n",
    "\n",
    "\n"
   ]
  },
  {
   "cell_type": "code",
   "execution_count": 17,
   "metadata": {},
   "outputs": [
    {
     "name": "stdout",
     "output_type": "stream",
     "text": [
      "updating sofware\n",
      "driving\n"
     ]
    }
   ],
   "source": [
    "class Car:\n",
    "    \n",
    "    def __init__(self):\n",
    "        self.__updatesoftware()\n",
    "        \n",
    "    def drive(self):\n",
    "        print ('driving')\n",
    "        \n",
    "    def __updatesoftware(self):\n",
    "        print ('updating sofware')\n",
    "        \n",
    "redcar = Car()\n",
    "redcar.drive()"
   ]
  },
  {
   "cell_type": "markdown",
   "metadata": {},
   "source": [
    "* In the above example Encapsulation prevents from accessing accidentally, but not intentionally."
   ]
  },
  {
   "cell_type": "markdown",
   "metadata": {},
   "source": [
    "## Data Abstraction"
   ]
  },
  {
   "cell_type": "markdown",
   "metadata": {},
   "source": [
    "* Data abstraction and encapsulation both are often used as synonyms. Both are nearly synonym because data abstraction is achieved through encapsulation. Abstraction is used to hide internal details and show only functionalities. Abstracting something means to give names to things, so that the name captures the core of what a function or a whole program does."
   ]
  },
  {
   "cell_type": "code",
   "execution_count": null,
   "metadata": {
    "collapsed": true
   },
   "outputs": [],
   "source": []
  }
 ],
 "metadata": {
  "kernelspec": {
   "display_name": "Python 3",
   "language": "python",
   "name": "python3"
  },
  "language_info": {
   "codemirror_mode": {
    "name": "ipython",
    "version": 3
   },
   "file_extension": ".py",
   "mimetype": "text/x-python",
   "name": "python",
   "nbconvert_exporter": "python",
   "pygments_lexer": "ipython3",
   "version": "3.5.2"
  }
 },
 "nbformat": 4,
 "nbformat_minor": 2
}
